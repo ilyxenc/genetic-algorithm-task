{
 "cells": [
  {
   "cell_type": "markdown",
   "metadata": {},
   "source": [
    "# Генетический алгоритм"
   ]
  },
  {
   "cell_type": "markdown",
   "metadata": {},
   "source": [
    "## Функции для ГА"
   ]
  },
  {
   "cell_type": "markdown",
   "metadata": {},
   "source": [
    "Функция qZ - метод оценки качества хромосому по заданию 14.1"
   ]
  },
  {
   "cell_type": "code",
   "execution_count": 4,
   "metadata": {},
   "outputs": [],
   "source": [
    "# функция качества хромосомы\n",
    "def qZ(x, y):\n",
    "    return (x - 3 * y + 1) / (3* x ** 2 + 3 * y ** 2 + 1)\n",
    "\n",
    "# сумма качества хромосом\n",
    "def qSumZ(Z):\n",
    "    return sum(Z)\n",
    "\n",
    "# схема обмена хромосомами\n",
    "def exchangeScheme(oldX, oldY, sortedId):\n",
    "    X = [0 for i in range(4)]\n",
    "    Y = [0 for i in range(4)]\n",
    "\n",
    "    X[2] = oldX[sortedId[2]]\n",
    "    X[3] = oldX[sortedId[2]]\n",
    "\n",
    "    X[0] = oldX[sortedId[0]]\n",
    "    \n",
    "    X[1] = oldX[sortedId[1]]\n",
    "\n",
    "    Y[0] = oldY[sortedId[2]]\n",
    "    Y[1] = oldY[sortedId[2]]\n",
    "\n",
    "    Y[2] = oldY[sortedId[0]]\n",
    "\n",
    "    Y[3] = oldY[sortedId[1]]\n",
    "\n",
    "    return X, Y\n",
    "\n",
    "# получение массива индексов от отсортированного массива качества\n",
    "def sorting(Z):\n",
    "    sortedId = sorted(range(len(Z)), key = lambda k: Z[k])\n",
    "\n",
    "    return sortedId\n",
    "\n",
    "# шаг эволюции\n",
    "def evoStep(X, Y, Z):\n",
    "    _, minId = min((value, id) for (id, value) in enumerate(Z))\n",
    "    X = X[:]\n",
    "    Y = Y[:]\n",
    "    Z = Z[:]\n",
    "\n",
    "    X.pop(minId)\n",
    "    Y.pop(minId)\n",
    "    Z.pop(minId)\n",
    "\n",
    "    return X, Y, Z\n",
    "\n",
    "# шаги эволюции (конечная функция), по умолчанию 4 шага\n",
    "def evoSteps(X, Y, stepsNum = 4):\n",
    "    results = []\n",
    "\n",
    "    for i in range(4):\n",
    "        arrZ = [qZ(x, Y[i]) for i, x in enumerate(X)] \n",
    "\n",
    "        X, Y, Z = evoStep(X, Y, arrZ)\n",
    "\n",
    "        X, Y = exchangeScheme(X, Y, sorting(Z))\n",
    "\n",
    "        results.append([X, Y, qSumZ(arrZ), arrZ])\n",
    "\n",
    "    return X, Y, results\n"
   ]
  },
  {
   "cell_type": "markdown",
   "metadata": {},
   "source": [
    "## Использование ГА"
   ]
  },
  {
   "cell_type": "markdown",
   "metadata": {},
   "source": [
    "X, Y - массивы хромосом по заданию 14.1"
   ]
  },
  {
   "cell_type": "code",
   "execution_count": 5,
   "metadata": {},
   "outputs": [],
   "source": [
    "# объявление массивов хромосом\n",
    "X = [-2, -1, 0, 1] \n",
    "Y = [-2, -1, 0, 1]\n",
    "\n",
    "# получение результатов\n",
    "results = evoSteps(X, Y)"
   ]
  },
  {
   "cell_type": "markdown",
   "metadata": {},
   "source": [
    "## Вывод результатов в требуемом по заданию виде"
   ]
  },
  {
   "cell_type": "code",
   "execution_count": 6,
   "metadata": {},
   "outputs": [
    {
     "name": "stdout",
     "output_type": "stream",
     "text": [
      "max_1_step: 1.4857142857142858\n",
      "max_2_step: 1.4615384615384615\n",
      "max_3_step: 2.967032967032967\n",
      "max_4_step: 3.5384615384615383\n",
      "max Z:      1.0\n"
     ]
    }
   ],
   "source": [
    "for i in range(len(results[2])):\n",
    "    print(f'max_{i + 1}_step: {results[2][i][2]}')\n",
    "\n",
    "qualityArrZ = []\n",
    "for i in range(len(results[2])):\n",
    "    qualityArrZ += results[2][i][3]\n",
    "\n",
    "print(f'max Z:      {max(qualityArrZ)}')"
   ]
  }
 ],
 "metadata": {
  "interpreter": {
   "hash": "31f2aee4e71d21fbe5cf8b01ff0e069b9275f58929596ceb00d14d90e3e16cd6"
  },
  "kernelspec": {
   "display_name": "Python 3.8.9 64-bit",
   "language": "python",
   "name": "python3"
  },
  "language_info": {
   "codemirror_mode": {
    "name": "ipython",
    "version": 3
   },
   "file_extension": ".py",
   "mimetype": "text/x-python",
   "name": "python",
   "nbconvert_exporter": "python",
   "pygments_lexer": "ipython3",
   "version": "3.8.9"
  },
  "orig_nbformat": 4
 },
 "nbformat": 4,
 "nbformat_minor": 2
}
